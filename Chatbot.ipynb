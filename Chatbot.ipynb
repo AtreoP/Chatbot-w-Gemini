{
  "nbformat": 4,
  "nbformat_minor": 0,
  "metadata": {
    "colab": {
      "provenance": []
    },
    "kernelspec": {
      "name": "python3",
      "display_name": "Python 3"
    },
    "language_info": {
      "name": "python"
    }
  },
  "cells": [
    {
      "cell_type": "code",
      "execution_count": null,
      "metadata": {
        "id": "1hDher3OYQEP"
      },
      "outputs": [],
      "source": [
        "import google.generativeai as genai"
      ]
    },
    {
      "cell_type": "code",
      "source": [
        "API_KEY=\"YOUR API_KEY\""
      ],
      "metadata": {
        "id": "IqvEJgRkYbgZ"
      },
      "execution_count": null,
      "outputs": []
    },
    {
      "cell_type": "code",
      "source": [
        "genai.configure(api_key=API_KEY)"
      ],
      "metadata": {
        "id": "S_zX9cxEYgS9"
      },
      "execution_count": null,
      "outputs": []
    },
    {
      "cell_type": "code",
      "source": [
        "model=genai.GenerativeModel('gemini-pro')"
      ],
      "metadata": {
        "id": "5Enn5dg4YqbZ"
      },
      "execution_count": null,
      "outputs": []
    },
    {
      "cell_type": "code",
      "source": [
        "model"
      ],
      "metadata": {
        "colab": {
          "base_uri": "https://localhost:8080/"
        },
        "id": "kaYgBcOlY1h8",
        "outputId": "60446fdc-0eda-4f72-f1fe-990ff74f3ca4"
      },
      "execution_count": null,
      "outputs": [
        {
          "output_type": "execute_result",
          "data": {
            "text/plain": [
              " genai.GenerativeModel(\n",
              "   model_name='models/gemini-pro',\n",
              "   generation_config={}.\n",
              "   safety_settings={}\n",
              ")"
            ]
          },
          "metadata": {},
          "execution_count": 6
        }
      ]
    },
    {
      "cell_type": "code",
      "source": [
        "res=model.generate_content(\"Write a program in Python to print the first 10 even numbers from 0\")\n",
        "print(res.text)"
      ],
      "metadata": {
        "colab": {
          "base_uri": "https://localhost:8080/",
          "height": 217
        },
        "id": "78qIdpinY72n",
        "outputId": "b0ce194c-75df-438d-f1b3-6decbede2e61"
      },
      "execution_count": null,
      "outputs": [
        {
          "output_type": "stream",
          "name": "stdout",
          "text": [
            "```python\n",
            "# This Python program prints the first 10 even numbers from 0.\n",
            "\n",
            "# Initialize the counter variable.\n",
            "counter = 0\n",
            "\n",
            "# While the counter is less than 10, print the next even number and increment the counter.\n",
            "while counter < 10:\n",
            "    print(2 * counter)\n",
            "    counter += 1\n",
            "```\n"
          ]
        }
      ]
    },
    {
      "cell_type": "code",
      "source": [
        "# This Python program prints the first 10 even numbers from 0.\n",
        "\n",
        "# Initialize the counter variable.\n",
        "counter = 0\n",
        "\n",
        "# While the counter is less than 10, print the next even number and increment the counter.\n",
        "while counter < 10:\n",
        "    print(2 * counter)\n",
        "    counter += 1"
      ],
      "metadata": {
        "colab": {
          "base_uri": "https://localhost:8080/"
        },
        "id": "ebSoLO5WZSH7",
        "outputId": "ebca931c-73a6-451d-8d34-c0d840667e7e"
      },
      "execution_count": null,
      "outputs": [
        {
          "output_type": "stream",
          "name": "stdout",
          "text": [
            "0\n",
            "2\n",
            "4\n",
            "6\n",
            "8\n",
            "10\n",
            "12\n",
            "14\n",
            "16\n",
            "18\n"
          ]
        }
      ]
    },
    {
      "cell_type": "code",
      "source": [
        "while True:\n",
        "  query=input(\"Gemini: What do you want to know today?\\nYour Response: \")\n",
        "  if query==\"exit\":\n",
        "    print(\"Gemini: Bye!\")\n",
        "    break\n",
        "  response=model.generate_content(query)\n",
        "  print(\"Gemini: \", response.text)"
      ],
      "metadata": {
        "colab": {
          "base_uri": "https://localhost:8080/"
        },
        "id": "WH2WkGyrZvFB",
        "outputId": "a8a51930-33d8-46c3-e57b-4bd43da1bd11"
      },
      "execution_count": null,
      "outputs": [
        {
          "metadata": {
            "tags": null
          },
          "name": "stdout",
          "output_type": "stream",
          "text": [
            "Gemini:  Gender is a complex concept that encompasses a person's self-identification, social roles, and behaviors. It is influenced by a variety of factors, including biological factors, social and cultural factors, and personal experiences.\n",
            "\n",
            "**Biological Factors**\n",
            "\n",
            "* **Chromosomes:** Typically, people with two X chromosomes (XX) are identified as female, and people with one X chromosome and one Y chromosome (XY) are identified as male. However, there are exceptions to this rule, such as people with atypical chromosome configurations.\n",
            "* **Hormones:** Testosterone and estrogen are hormones that play a role in developing physical characteristics associated with male and female bodies, respectively. However, hormone levels can vary significantly among individuals of the same sex.\n",
            "* **Genitalia:** External and internal genitalia are physical characteristics that are typically associated with male or female bodies. However, variations in genitalia can occur due to genetic or developmental factors.\n",
            "\n",
            "**Social and Cultural Factors**\n",
            "\n",
            "* **Social norms:** Societies have expectations and roles associated with different genders. These norms can shape how individuals perceive themselves and how they are perceived by others.\n",
            "* **Culture:** Different cultures have varying beliefs and values about gender roles and identities. These cultural expectations can influence an individual's understanding and expression of gender.\n",
            "* **Socialization:** Individuals are socialized into gender roles through interactions with family, peers, and institutions. This socialization process reinforces societal norms and influences an individual's sense of self as male or female.\n",
            "\n",
            "**Personal Experiences**\n",
            "\n",
            "* **Gender identity:** This is an individual's internal sense of being male, female, or non-binary. It may or may not align with their biological sex or assigned gender at birth.\n",
            "* **Gender expression:** This refers to how an individual expresses their gender through clothing, behavior, and other means. It may or may not conform to societal expectations.\n",
            "* **Gender transition:** Some individuals may undergo medical or social transitions to align their physical appearance and identity with their gender identity. This may involve surgeries, hormone therapy, or social changes.\n",
            "\n",
            "**Intersections of Gender**\n",
            "\n",
            "Gender is not a binary concept. There is a wide range of gender identities and expressions, and individuals may identify on a spectrum or in ways that do not fit into traditional categories. Additionally, gender intersects with other aspects of identity, such as race, class, and sexual orientation, creating unique experiences for individuals.\n"
          ]
        }
      ]
    },
    {
      "source": [
        "print(response.prompt_feedback)"
      ],
      "cell_type": "code",
      "metadata": {
        "colab": {
          "base_uri": "https://localhost:8080/"
        },
        "id": "rEWxV-KlbuG1",
        "outputId": "df9df567-ec00-4bd7-9509-e86fa8ed33cb"
      },
      "execution_count": null,
      "outputs": [
        {
          "output_type": "stream",
          "name": "stdout",
          "text": [
            "block_reason: SAFETY\n",
            "safety_ratings {\n",
            "  category: HARM_CATEGORY_SEXUALLY_EXPLICIT\n",
            "  probability: NEGLIGIBLE\n",
            "}\n",
            "safety_ratings {\n",
            "  category: HARM_CATEGORY_HATE_SPEECH\n",
            "  probability: LOW\n",
            "}\n",
            "safety_ratings {\n",
            "  category: HARM_CATEGORY_HARASSMENT\n",
            "  probability: MEDIUM\n",
            "}\n",
            "safety_ratings {\n",
            "  category: HARM_CATEGORY_DANGEROUS_CONTENT\n",
            "  probability: NEGLIGIBLE\n",
            "}\n",
            "\n"
          ]
        }
      ]
    },
    {
      "source": [
        "print(query)"
      ],
      "cell_type": "code",
      "metadata": {
        "colab": {
          "base_uri": "https://localhost:8080/"
        },
        "id": "dgBam--ebyjw",
        "outputId": "88262b90-b871-4105-9a07-db168fac3189"
      },
      "execution_count": null,
      "outputs": [
        {
          "output_type": "stream",
          "name": "stdout",
          "text": [
            "define atom\n"
          ]
        }
      ]
    },
    {
      "cell_type": "code",
      "source": [],
      "metadata": {
        "id": "tIxSthSCbyxj"
      },
      "execution_count": null,
      "outputs": []
    }
  ]
}
